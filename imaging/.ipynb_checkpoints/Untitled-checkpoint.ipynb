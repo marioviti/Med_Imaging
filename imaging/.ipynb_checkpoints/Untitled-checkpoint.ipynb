{
 "cells": [
  {
   "cell_type": "code",
   "execution_count": 1,
   "metadata": {
    "collapsed": false
   },
   "outputs": [],
   "source": [
    "import nii_io as nio\n",
    "import nii_utils as utils\n",
    "import nii_settings as nst\n",
    "import nii_MDV as mdv\n",
    "import numpy as np\n",
    "from sklearn.mixture import GMM\n",
    "import matplotlib.pyplot as plt\n",
    "from matplotlib.pyplot import figure, show, axes, sci\n",
    "from IPython.display import display, Image #Config the matlotlib backend as plotting inline in IPython\n",
    "%matplotlib inline"
   ]
  },
  {
   "cell_type": "code",
   "execution_count": 2,
   "metadata": {
    "collapsed": false
   },
   "outputs": [
    {
     "name": "stdout",
     "output_type": "stream",
     "text": [
      "start\n",
      "[[[2 2]\n",
      "  [1 1]]\n",
      "\n",
      " [[3 4]\n",
      "  [0 1]]]\n",
      "\r",
      "progress:  100 %\n",
      "ended\n"
     ]
    }
   ],
   "source": [
    "a = np.array([[[1.3,1.5],[0.3,0.12]],[[2.3,3.5],[0.0,0.12]]])\n",
    "thres = [0,1,2,3]\n",
    "sa =  mdv.Sampler(2,thres)\n",
    "smpl = sa.sample3D(a,verbose = True)\n"
   ]
  },
  {
   "cell_type": "code",
   "execution_count": 3,
   "metadata": {
    "collapsed": false
   },
   "outputs": [
    {
     "name": "stdout",
     "output_type": "stream",
     "text": [
      "{2241106: 1.0}\n",
      "(2, 2, 2)\n"
     ]
    }
   ],
   "source": [
    "print smpl\n",
    "print a.shape"
   ]
  },
  {
   "cell_type": "code",
   "execution_count": 4,
   "metadata": {
    "collapsed": false
   },
   "outputs": [
    {
     "name": "stdout",
     "output_type": "stream",
     "text": [
      "[2241106]\n"
     ]
    }
   ],
   "source": [
    "patternbank = smpl.keys()\n",
    "print patternbank"
   ]
  },
  {
   "cell_type": "code",
   "execution_count": 5,
   "metadata": {
    "collapsed": false
   },
   "outputs": [
    {
     "name": "stdout",
     "output_type": "stream",
     "text": [
      "start\n",
      "HIT\n",
      "\r",
      "progress:  100 %\n",
      "ended\n",
      "[[[ 2.  2.]\n",
      "  [ 1.  1.]]\n",
      "\n",
      " [[ 3.  4.]\n",
      "  [ 0.  1.]]]\n"
     ]
    }
   ],
   "source": [
    "cmop = mdv.Compressor(sa,patternbank)\n",
    "img = cmop.compress3D(a,verbose = True)\n",
    "print img"
   ]
  },
  {
   "cell_type": "code",
   "execution_count": 8,
   "metadata": {
    "collapsed": false
   },
   "outputs": [
    {
     "name": "stdout",
     "output_type": "stream",
     "text": [
      "ciao\n",
      "<type 'list'>\n"
     ]
    }
   ],
   "source": [
    "a = 123\n",
    "b = ['123', '455']\n",
    "if `a` in b:\n",
    "    print 'ciao'\n",
    "print type(b)"
   ]
  },
  {
   "cell_type": "code",
   "execution_count": null,
   "metadata": {
    "collapsed": true
   },
   "outputs": [],
   "source": [
    "b = [1,2,3]\n",
    "print all(isinstance(n, int) for n in b)"
   ]
  }
 ],
 "metadata": {
  "kernelspec": {
   "display_name": "Python 2",
   "language": "python",
   "name": "python2"
  },
  "language_info": {
   "codemirror_mode": {
    "name": "ipython",
    "version": 2
   },
   "file_extension": ".py",
   "mimetype": "text/x-python",
   "name": "python",
   "nbconvert_exporter": "python",
   "pygments_lexer": "ipython2",
   "version": "2.7.6"
  }
 },
 "nbformat": 4,
 "nbformat_minor": 0
}
