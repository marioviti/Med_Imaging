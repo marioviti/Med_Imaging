{
 "cells": [
  {
   "cell_type": "markdown",
   "metadata": {},
   "source": [
    "# Import"
   ]
  },
  {
   "cell_type": "code",
   "execution_count": 1,
   "metadata": {
    "collapsed": false
   },
   "outputs": [],
   "source": [
    "import nii_io as nio\n",
    "import nii_utils as utils\n",
    "import nii_settings as nst\n",
    "import nii_MDV as mdv\n",
    "import numpy as np\n",
    "from sklearn.mixture import GMM\n",
    "import matplotlib.pyplot as plt\n",
    "from matplotlib.pyplot import figure, show, axes, sci\n",
    "from IPython.display import display, Image #Config the matlotlib backend as plotting inline in IPython\n",
    "%matplotlib inline"
   ]
  },
  {
   "cell_type": "markdown",
   "metadata": {},
   "source": [
    "# Settings"
   ]
  },
  {
   "cell_type": "code",
   "execution_count": 2,
   "metadata": {
    "collapsed": false
   },
   "outputs": [
    {
     "name": "stdout",
     "output_type": "stream",
     "text": [
      "sampled data size\n",
      "3x3x3 patterns 2 bits per pixel = 54 bits per pattern\n",
      "numeber of patter sampled: 1237648\n",
      "total size of pattern sampled: 8158 Kbytes\n",
      "{'todo_dirlist': ['AD-7.nii'], 'done_dirlist': ['AD-1.nii', 'CTRL-10.nii', 'CONV-30.nii', 'NOCONV-50.nii', 'NOCONV-10.nii', 'CTRL-5.nii'], 'thress': {'AD-7.nii': [0.1253376906090581, 0.32831875008302286, 0.5264969822905372, 1.0485159228165726]}}\n"
     ]
    }
   ],
   "source": [
    "proj_dir = \".\"\n",
    "nii_dir = \"./brainNii\"\n",
    "nii_segm_dir = \"./brainNii/segmentation\"\n",
    "nii_settings_name = \"settings.json\"\n",
    "nii_data_name = \"patterns.json\"\n",
    "nii_histogram_name = \"histogram.json\"\n",
    "nii_output_dir = \"./brainNii/output\"\n",
    "\n",
    "extensions = ['.nii']\n",
    "patch_side = 3 # considering square pathces\n",
    "\n",
    "settings = utils.loadDict(proj_dir,nii_settings_name)\n",
    "if settings == None:\n",
    "    settings = nst.createSettings(nii_dir,extensions)\n",
    "utils.saveDict(proj_dir,nii_settings_name,settings)\n",
    "    \n",
    "data = utils.loadDict(proj_dir,nii_data_name) # load data \n",
    "data = {} if data == None else data\n",
    "\n",
    "print 'sampled data size'\n",
    "print '3x3x3 patterns 2 bits per pixel = 54 bits per pattern'\n",
    "print 'numeber of patter sampled: ' + `len(data.keys())`\n",
    "print 'total size of pattern sampled: ' + `((len(data.keys())* 54) / 8) /1024` + ' Kbytes'\n",
    "\n",
    "print settings"
   ]
  },
  {
   "cell_type": "markdown",
   "metadata": {
    "collapsed": true
   },
   "source": [
    "# Starting sampling"
   ]
  },
  {
   "cell_type": "code",
   "execution_count": 3,
   "metadata": {
    "collapsed": false
   },
   "outputs": [
    {
     "name": "stdout",
     "output_type": "stream",
     "text": [
      "sample present.\n"
     ]
    }
   ],
   "source": [
    "sample = utils.loadDict(proj_dir,nii_data_name)\n",
    "if sample == None:\n",
    "    print \"sample not present, will be created.\"\n",
    "    sample = {}\n",
    "else:\n",
    "    print \"sample present.\"\n",
    "    \n",
    "if sample == {}:\n",
    "    samplers = {}\n",
    "    for img_name in settings['todo_dirlist']:\n",
    "        samplers[img_name]=  mdv.sampler(3,settings['thress'][img_name]) \n",
    "    for img_name in settings['todo_dirlist']:\n",
    "        image_data_and_metadata = (nio.basicLoadNii(utils.joinpath(nii_dir,img_name)))\n",
    "        %time curr_sample = samplers[img_name].sample3D(image_data_and_metadata[2],verbose=True)\n",
    "        sample = mdv.mergedicts(curr_sample,sample)\n",
    "    utils.saveDict(proj_dir,nii_data_name,sample)"
   ]
  },
  {
   "cell_type": "markdown",
   "metadata": {
    "collapsed": true
   },
   "source": [
    "# Now create the histogram \n",
    "\n",
    "Use the binnedHistogram class create the density mapping.\n",
    "Binning is very simple right now but might be usefull to use more redifined bins."
   ]
  },
  {
   "cell_type": "code",
   "execution_count": 17,
   "metadata": {
    "collapsed": false
   },
   "outputs": [
    {
     "name": "stdout",
     "output_type": "stream",
     "text": [
      "CPU times: user 3.44 s, sys: 80 ms, total: 3.52 s\n",
      "Wall time: 3.45 s\n"
     ]
    },
    {
     "data": {
      "image/png": "[encoded data removed]",
      "text/plain": [
       "<matplotlib.figure.Figure at 0x7fdcba0e3d90>"
      ]
     },
     "metadata": {},
     "output_type": "display_data"
    }
   ],
   "source": [
    "precision_=0.001\n",
    "%time binnedHist = mdv.binnedHistogram(precision=precision_, fun=np.log,mapkv=sample)\n",
    "plt.plot(binnedHist.X, binnedHist.Y, '-r')\n",
    "plt.yscale('log')\n",
    "plt.show()"
   ]
  },
  {
   "cell_type": "markdown",
   "metadata": {},
   "source": [
    "# Create the pattern bank"
   ]
  },
  {
   "cell_type": "code",
   "execution_count": 19,
   "metadata": {
    "collapsed": false
   },
   "outputs": [
    {
     "data": {
      "image/png": "[encoded data removed]",
      "text/plain": [
       "<matplotlib.figure.Figure at 0x7fdcb0627990>"
      ]
     },
     "metadata": {},
     "output_type": "display_data"
    },
    {
     "name": "stdout",
     "output_type": "stream",
     "text": [
      "120\n"
     ]
    }
   ],
   "source": [
    "W = 0.05\n",
    "N = 100\n",
    "\n",
    "maxim = mdv.Maximizator(W,N)\n",
    "patternbank = maxim.maxim(binnedHist)\n",
    "patternbank_bins = mdv.binnedHistogram(precision=precision_, fun=np.log,\n",
    "                                     mapkv=patternbank,isMap=True)\n",
    "plt.plot(patternbank_bins.X, patternbank_bins.Y, '-r')\n",
    "plt.yscale('log')\n",
    "plt.show()\n",
    "\n",
    "pattern_list = []\n",
    "for patt_bin in patternbank_bins.MAP.values() :\n",
    "    pattern_list += patt_bin\n",
    "        \n",
    "print len(pattern_list)\n",
    "\n"
   ]
  },
  {
   "cell_type": "code",
   "execution_count": null,
   "metadata": {
    "collapsed": true
   },
   "outputs": [],
   "source": []
  }
 ],
 "metadata": {
  "kernelspec": {
   "display_name": "Python 2",
   "language": "python",
   "name": "python2"
  },
  "language_info": {
   "codemirror_mode": {
    "name": "ipython",
    "version": 2
   },
   "file_extension": ".py",
   "mimetype": "text/x-python",
   "name": "python",
   "nbconvert_exporter": "python",
   "pygments_lexer": "ipython2",
   "version": "2.7.6"
  }
 },
 "nbformat": 4,
 "nbformat_minor": 0
}
