{
 "cells": [
  {
   "cell_type": "markdown",
   "metadata": {},
   "source": [
    "# Import"
   ]
  },
  {
   "cell_type": "code",
   "execution_count": 1,
   "metadata": {
    "collapsed": true
   },
   "outputs": [],
   "source": [
    "import nii_io as nio\n",
    "import nii_utils as utils\n",
    "import nii_settings as nst\n",
    "import nii_MDV as mdv\n",
    "import numpy as np\n",
    "from sklearn.mixture import GMM\n",
    "import matplotlib.pyplot as plt\n",
    "from matplotlib.pyplot import figure, show, axes, sci\n",
    "from IPython.display import display, Image #Config the matlotlib backend as plotting inline in IPython\n",
    "%matplotlib inline"
   ]
  },
  {
   "cell_type": "markdown",
   "metadata": {},
   "source": [
    "# Settings"
   ]
  },
  {
   "cell_type": "code",
   "execution_count": 2,
   "metadata": {
    "collapsed": false
   },
   "outputs": [
    {
     "name": "stdout",
     "output_type": "stream",
     "text": [
      "sampled data size\n",
      "3x3x3 patterns 2 bits per pixel = 54 bits per pattern\n",
      "numeber of patter sampled: 0\n",
      "total size of pattern sampled: 0 Kbytes\n",
      "{'todo_dirlist': ['AD-7.nii'], 'done_dirlist': ['AD-1.nii', 'CTRL-10.nii', 'CONV-30.nii', 'NOCONV-50.nii', 'NOCONV-10.nii', 'CTRL-5.nii'], 'thress': {'AD-7.nii': [0.1253376906090581, 0.32831875008302286, 0.5264969822905372, 1.0485159228165726]}}\n"
     ]
    }
   ],
   "source": [
    "proj_dir = \".\"\n",
    "nii_dir = \"./brainNii\"\n",
    "nii_segm_dir = \"./brainNii/segmentation\"\n",
    "nii_settings_name = \"settings.json\"\n",
    "nii_data_name = \"patterns.json\"\n",
    "nii_histogram_name = \"histogram.json\"\n",
    "nii_output_dir = \"./brainNii/output\"\n",
    "\n",
    "extensions = ['.nii']\n",
    "patch_side = 3 # considering square pathces\n",
    "\n",
    "settings = utils.loadDict(proj_dir,nii_settings_name)\n",
    "if settings == None:\n",
    "    settings = nst.createSettings(nii_dir,extensions)\n",
    "utils.saveDict(proj_dir,nii_settings_name,settings)\n",
    "    \n",
    "data = utils.loadDict(proj_dir,nii_data_name) # load data \n",
    "data = {} if data == None else data\n",
    "\n",
    "print 'sampled data size'\n",
    "print '3x3x3 patterns 2 bits per pixel = 54 bits per pattern'\n",
    "print 'numeber of patter sampled: ' + `len(data.keys())`\n",
    "print 'total size of pattern sampled: ' + `((len(data.keys())* 54) / 8) /1024` + ' Kbytes'\n",
    "\n",
    "print settings"
   ]
  },
  {
   "cell_type": "markdown",
   "metadata": {
    "collapsed": true
   },
   "source": [
    "# Starting sampling"
   ]
  },
  {
   "cell_type": "code",
   "execution_count": 4,
   "metadata": {
    "collapsed": false
   },
   "outputs": [
    {
     "name": "stdout",
     "output_type": "stream",
     "text": [
      "{'AD-7.nii': <nii_MDV.nii_MDV.sampler instance at 0x7f523887d368>}\n",
      "start\n",
      "progress:  100 %\n",
      "ended\n",
      "CPU times: user 1min 19s, sys: 384 ms, total: 1min 19s\n",
      "Wall time: 1min 18s\n",
      "1237648\n"
     ]
    }
   ],
   "source": [
    "samplers = {}\n",
    "for img_name in settings['todo_dirlist']:\n",
    "    samplers[img_name]=  mdv.sampler(3,settings['thress'][img_name]) \n",
    "print samplers\n",
    "\n",
    "sample = {}\n",
    "for img_name in settings['todo_dirlist']:\n",
    "    image_data_and_metadata = (nio.basicLoadNii(utils.joinpath(nii_dir,img_name)))\n",
    "    %time curr_sample = samplers[img_name].sample3D(image_data_and_metadata[2],verbose=True)\n",
    "    sample = mdv.mergedicts(curr_sample,sample)\n",
    "    \n",
    "print len(sample)"
   ]
  },
  {
   "cell_type": "code",
   "execution_count": null,
   "metadata": {
    "collapsed": true
   },
   "outputs": [],
   "source": []
  }
 ],
 "metadata": {
  "kernelspec": {
   "display_name": "Python 2",
   "language": "python",
   "name": "python2"
  },
  "language_info": {
   "codemirror_mode": {
    "name": "ipython",
    "version": 2
   },
   "file_extension": ".py",
   "mimetype": "text/x-python",
   "name": "python",
   "nbconvert_exporter": "python",
   "pygments_lexer": "ipython2",
   "version": "2.7.6"
  }
 },
 "nbformat": 4,
 "nbformat_minor": 0
}
